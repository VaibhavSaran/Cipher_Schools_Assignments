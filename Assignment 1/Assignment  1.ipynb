{
 "cells": [
  {
   "cell_type": "code",
   "execution_count": 5,
   "metadata": {},
   "outputs": [
    {
     "name": "stdout",
     "output_type": "stream",
     "text": [
      "Enter values: 4 4 5 6 8 4 5\n",
      "[4, 4, 5, 6, 8, 4, 5]\n",
      "[8, 4, 5, 6]\n"
     ]
    }
   ],
   "source": [
    "# Ques 1: Write a program to get a user input in the form of a list data type. Return a list by removing all the duplicates.\n",
    "# Sample Input -> [4, 4, 5, 6, 8, 4, 5]\n",
    "# Output -> [4, 5, 6, 8]\n",
    "\n",
    "val = list(map(int,input(\"Enter values: \").split()))\n",
    "s = list(set(val))\n",
    "print(s)"
   ]
  },
  {
   "cell_type": "code",
   "execution_count": 9,
   "metadata": {},
   "outputs": [
    {
     "name": "stdout",
     "output_type": "stream",
     "text": [
      "Enter Values: 1 2 3 4 5 6\n",
      "Length of tuple:  6\n",
      "Sum of all elements:  21\n",
      "Largest number is 6 and smallest number is 1\n"
     ]
    }
   ],
   "source": [
    "#Ques 2:  Write a program to create a user-defined tuple with ‘int’ data type and perform the following operations:\n",
    "#     Find the length of tuples\n",
    "#     Find the sum of all the elements of a tuple\n",
    "#     Find the largest and smallest elements of a tuple\n",
    "\n",
    "t = tuple(map(int,input(\"Enter Values: \").split()))\n",
    "print(\"Length of tuple: \",len(t))\n",
    "print(\"Sum of all elements: \",sum(t))\n",
    "print(\"Largest number is {0} and smallest number is {1}\".format(max(t),min(t)))"
   ]
  },
  {
   "cell_type": "code",
   "execution_count": 2,
   "metadata": {},
   "outputs": [
    {
     "name": "stdout",
     "output_type": "stream",
     "text": [
      "Enter the number: 13\n",
      "Enter the bit to be reversed: 3\n",
      "13\n"
     ]
    }
   ],
   "source": [
    "#Ques 3: Given a number and ith bit, change the ith bit of that number to 1.\n",
    "# Sample Input -> num = 13, i = 1\n",
    "# Output -> 15\n",
    "# Explanation -> 13 can be represented as 1101 in binary. Now if we set the 1st bit of this binary represented value, we will get 1111 (i.e. 15) as output.\n",
    "\n",
    "val = int(input(\"Enter the number: \"))\n",
    "bit = int(input(\"Enter the bit to be reversed: \"))\n",
    "magic = 1<<bit\n",
    "no = val if (val & magic) == magic else (val ^ magic)\n",
    "print(no)"
   ]
  },
  {
   "cell_type": "code",
   "execution_count": 19,
   "metadata": {},
   "outputs": [
    {
     "name": "stdout",
     "output_type": "stream",
     "text": [
      "Enter a number: 4\n",
      "4 is Even\n"
     ]
    }
   ],
   "source": [
    "#Ques 4: Given a number, print 1 if the number is odd otherwise print 0.\n",
    "#NOTE: Try to do this program without the use of if-else statement.\n",
    "\n",
    "num = int(input(\"Enter a number: \"))\n",
    "opt = num & 1 #This statement returns 1  when number is odd and 0 when even (logically binary AND of num and 1)\n",
    "print(opt)"
   ]
  },
  {
   "cell_type": "code",
   "execution_count": 1,
   "metadata": {},
   "outputs": [
    {
     "name": "stdout",
     "output_type": "stream",
     "text": [
      "Enter values: 1 2 3 4 5\n",
      "Enter values: 9 8 6 7\n",
      "[1, 2, 3, 4, 5, 6, 7, 8, 9]\n"
     ]
    }
   ],
   "source": [
    "# Ques 5: Given two lists of integers A and B. Write a program to merge them into a single sorted list \n",
    "# that contains every item from list A and B in ascending order.\n",
    "\n",
    "A = list(map(int,input(\"Enter values: \").split()))\n",
    "B = list(map(int,input(\"Enter values: \").split()))\n",
    "A.sort()\n",
    "B.sort()\n",
    "C = A + B\n",
    "print(C)"
   ]
  },
  {
   "cell_type": "code",
   "execution_count": 11,
   "metadata": {},
   "outputs": [
    {
     "name": "stdout",
     "output_type": "stream",
     "text": [
      "Enter Student Name: A\n",
      "Enter Marks: 15\n",
      "Enter Student Name: B\n",
      "Enter Marks: 25\n",
      "Enter Student Name: C\n",
      "Enter Marks: 95\n",
      "Enter Student Name: D\n",
      "Enter Marks: 45\n",
      "Enter Student Name: E\n",
      "Enter Marks: 5\n",
      "[('E', 5), ('A', 15), ('B', 25), ('D', 45), ('C', 95)]\n"
     ]
    }
   ],
   "source": [
    "# Ques 6: Create a user defined dictionary to store names and marks of 5 students. \n",
    "# Sort the dictionary according to marks and return this sorted dictionary to the user.\n",
    "# Sample Input -> {'Berlin': 70, 'Oslo':0, 'Moscow':50, 'Nairobi':100}\n",
    "# Output -> {'Oslo':0, 'Moscow':50, 'Berlin': 70, 'Nairobi':100}\n",
    "d = {}\n",
    "name = input(\"Enter Student Name: \")\n",
    "d[name] = int(input(\"Enter Marks: \"))\n",
    "name = input(\"Enter Student Name: \")\n",
    "d[name] = int(input(\"Enter Marks: \"))\n",
    "name = input(\"Enter Student Name: \")\n",
    "d[name] = int(input(\"Enter Marks: \"))\n",
    "name = input(\"Enter Student Name: \")\n",
    "d[name] = int(input(\"Enter Marks: \"))\n",
    "name = input(\"Enter Student Name: \")\n",
    "d[name] = int(input(\"Enter Marks: \"))\n",
    "d=sorted(d.items(), key=lambda x: x[1])\n",
    "print(d)"
   ]
  }
 ],
 "metadata": {
  "kernelspec": {
   "display_name": "Python 3",
   "language": "python",
   "name": "python3"
  },
  "language_info": {
   "codemirror_mode": {
    "name": "ipython",
    "version": 3
   },
   "file_extension": ".py",
   "mimetype": "text/x-python",
   "name": "python",
   "nbconvert_exporter": "python",
   "pygments_lexer": "ipython3",
   "version": "3.7.6"
  }
 },
 "nbformat": 4,
 "nbformat_minor": 4
}
